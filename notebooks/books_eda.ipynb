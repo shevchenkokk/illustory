{
 "cells": [
  {
   "cell_type": "code",
   "id": "initial_id",
   "metadata": {
    "collapsed": true,
    "ExecuteTime": {
     "end_time": "2025-05-01T20:55:17.646986Z",
     "start_time": "2025-05-01T20:55:17.643255Z"
    }
   },
   "source": "from datasets import load_dataset, concatenate_datasets, DatasetDict",
   "outputs": [],
   "execution_count": 101
  },
  {
   "metadata": {
    "ExecuteTime": {
     "end_time": "2025-05-01T20:55:23.315711Z",
     "start_time": "2025-05-01T20:55:17.657235Z"
    }
   },
   "cell_type": "code",
   "source": "dataset = load_dataset(\"slon-hk/BooksSummarizationRU\")",
   "id": "1d06e55ca2d0a819",
   "outputs": [],
   "execution_count": 102
  },
  {
   "metadata": {
    "ExecuteTime": {
     "end_time": "2025-05-01T20:55:23.337295Z",
     "start_time": "2025-05-01T20:55:23.335073Z"
    }
   },
   "cell_type": "code",
   "source": "dataset",
   "id": "cca8142a4fb3c542",
   "outputs": [
    {
     "data": {
      "text/plain": [
       "DatasetDict({\n",
       "    train: Dataset({\n",
       "        features: ['ID', 'Title', 'Author', 'Summary', 'Full Text'],\n",
       "        num_rows: 1271\n",
       "    })\n",
       "    test: Dataset({\n",
       "        features: ['ID', 'Title', 'Author', 'Summary', 'Full Text'],\n",
       "        num_rows: 142\n",
       "    })\n",
       "})"
      ]
     },
     "execution_count": 103,
     "metadata": {},
     "output_type": "execute_result"
    }
   ],
   "execution_count": 103
  },
  {
   "metadata": {
    "ExecuteTime": {
     "end_time": "2025-05-01T20:55:23.412142Z",
     "start_time": "2025-05-01T20:55:23.356587Z"
    }
   },
   "cell_type": "code",
   "source": "dataset = dataset.map(lambda x: {\"len\": len(x[\"Full Text\"])})",
   "id": "b3e50fd317657f9b",
   "outputs": [],
   "execution_count": 104
  },
  {
   "metadata": {
    "ExecuteTime": {
     "end_time": "2025-05-01T20:55:23.435795Z",
     "start_time": "2025-05-01T20:55:23.428445Z"
    }
   },
   "cell_type": "code",
   "source": "full_dataset = concatenate_datasets([dataset[\"train\"], dataset[\"test\"]])",
   "id": "acf315002ae28cd6",
   "outputs": [],
   "execution_count": 105
  },
  {
   "metadata": {
    "ExecuteTime": {
     "end_time": "2025-05-01T20:55:25.540991Z",
     "start_time": "2025-05-01T20:55:23.453916Z"
    }
   },
   "cell_type": "code",
   "source": [
    "import pandas as pd\n",
    "\n",
    "df = pd.DataFrame(full_dataset)"
   ],
   "id": "86c10c87831f1b6e",
   "outputs": [],
   "execution_count": 106
  },
  {
   "metadata": {
    "ExecuteTime": {
     "end_time": "2025-05-01T20:55:25.583087Z",
     "start_time": "2025-05-01T20:55:25.579073Z"
    }
   },
   "cell_type": "code",
   "source": "df.isnull().sum()",
   "id": "f3e74c16cbd4d090",
   "outputs": [
    {
     "data": {
      "text/plain": [
       "ID           0\n",
       "Title        0\n",
       "Author       0\n",
       "Summary      0\n",
       "Full Text    0\n",
       "len          0\n",
       "dtype: int64"
      ]
     },
     "execution_count": 107,
     "metadata": {},
     "output_type": "execute_result"
    }
   ],
   "execution_count": 107
  },
  {
   "metadata": {
    "ExecuteTime": {
     "end_time": "2025-05-01T20:55:25.619443Z",
     "start_time": "2025-05-01T20:55:25.616908Z"
    }
   },
   "cell_type": "code",
   "source": [
    "median_len = df['len'].median()\n",
    "print(f\"Median length: {median_len}\")\n",
    "mean_len = df['len'].mean()\n",
    "print(f\"Mean length: {mean_len}\")\n",
    "target_len = median_len\n",
    "print(f\"Target length: {target_len}\")"
   ],
   "id": "bd5f05e43c200eea",
   "outputs": [
    {
     "name": "stdout",
     "output_type": "stream",
     "text": [
      "Median length: 137195.0\n",
      "Mean length: 313618.4975230007\n",
      "Target length: 137195.0\n"
     ]
    }
   ],
   "execution_count": 108
  },
  {
   "metadata": {
    "ExecuteTime": {
     "end_time": "2025-05-01T20:55:25.652719Z",
     "start_time": "2025-05-01T20:55:25.646618Z"
    }
   },
   "cell_type": "code",
   "source": [
    "MAX_BOOKS_PER_AUTHOR = 2\n",
    "selected_books_ids = []\n",
    "grouped = df.groupby('Author')\n",
    "\n",
    "print(\"Number of authors:\", len(grouped))"
   ],
   "id": "6470c051aecba923",
   "outputs": [
    {
     "name": "stdout",
     "output_type": "stream",
     "text": [
      "Number of authors: 375\n"
     ]
    }
   ],
   "execution_count": 109
  },
  {
   "metadata": {
    "ExecuteTime": {
     "end_time": "2025-05-01T20:55:25.681698Z",
     "start_time": "2025-05-01T20:55:25.677423Z"
    }
   },
   "cell_type": "code",
   "source": "df['len'].describe()",
   "id": "f15f396ea0a7ca87",
   "outputs": [
    {
     "data": {
      "text/plain": [
       "count    1.413000e+03\n",
       "mean     3.136185e+05\n",
       "std      4.192993e+05\n",
       "min      7.260000e+02\n",
       "25%      3.195000e+04\n",
       "50%      1.371950e+05\n",
       "75%      4.498830e+05\n",
       "max      3.807064e+06\n",
       "Name: len, dtype: float64"
      ]
     },
     "execution_count": 110,
     "metadata": {},
     "output_type": "execute_result"
    }
   ],
   "execution_count": 110
  },
  {
   "metadata": {
    "ExecuteTime": {
     "end_time": "2025-05-01T20:55:25.718420Z",
     "start_time": "2025-05-01T20:55:25.715412Z"
    }
   },
   "cell_type": "code",
   "source": [
    "import math\n",
    "\n",
    "CHARS_PER_PAGE = 2000\n",
    "df['num_pages'] = df['len'].apply(lambda x: math.ceil(x / CHARS_PER_PAGE))\n",
    "df = df[df['num_pages'] > 1]"
   ],
   "id": "2424bca6102fd895",
   "outputs": [],
   "execution_count": 111
  },
  {
   "metadata": {
    "ExecuteTime": {
     "end_time": "2025-05-01T20:55:25.833269Z",
     "start_time": "2025-05-01T20:55:25.738430Z"
    }
   },
   "cell_type": "code",
   "source": [
    "for author, group in grouped:\n",
    "    group['len_diff'] = abs(group['len'] - target_len)\n",
    "\n",
    "    group_sorted = group.sort_values(by='len_diff')\n",
    "    selected_author_books = group_sorted.head(MAX_BOOKS_PER_AUTHOR)\n",
    "    selected_books_ids.extend(selected_author_books['ID'].tolist())\n",
    "\n",
    "len(selected_books_ids)"
   ],
   "id": "68d5827338669698",
   "outputs": [
    {
     "data": {
      "text/plain": [
       "658"
      ]
     },
     "execution_count": 112,
     "metadata": {},
     "output_type": "execute_result"
    }
   ],
   "execution_count": 112
  },
  {
   "metadata": {
    "ExecuteTime": {
     "end_time": "2025-05-01T20:55:25.849475Z",
     "start_time": "2025-05-01T20:55:25.845031Z"
    }
   },
   "cell_type": "code",
   "source": [
    "df_selected = df[df['ID'].isin(selected_books_ids)].copy()\n",
    "\n",
    "df_selected['len'].describe()"
   ],
   "id": "3cb7ccc62a00132",
   "outputs": [
    {
     "data": {
      "text/plain": [
       "count    6.530000e+02\n",
       "mean     3.483646e+05\n",
       "std      3.912529e+05\n",
       "min      2.621000e+03\n",
       "25%      6.979300e+04\n",
       "50%      1.816260e+05\n",
       "75%      4.909990e+05\n",
       "max      1.903540e+06\n",
       "Name: len, dtype: float64"
      ]
     },
     "execution_count": 113,
     "metadata": {},
     "output_type": "execute_result"
    }
   ],
   "execution_count": 113
  },
  {
   "metadata": {
    "ExecuteTime": {
     "end_time": "2025-05-01T20:55:25.886487Z",
     "start_time": "2025-05-01T20:55:25.882908Z"
    }
   },
   "cell_type": "code",
   "source": "df_selected[['Title', 'len', 'num_pages']].head()",
   "id": "6f7daadc736f97a6",
   "outputs": [
    {
     "data": {
      "text/plain": [
       "                                    Title      len  num_pages\n",
       "1  Дальнейшие приключения Робинзона Крузо   316541        159\n",
       "2                    Сказка о жабе и розе    12609          7\n",
       "3                                  Бобыль    38263         20\n",
       "7              Делай со мной что захочешь  1247741        624\n",
       "8                        Инспектор пришёл   129612         65"
      ],
      "text/html": [
       "<div>\n",
       "<style scoped>\n",
       "    .dataframe tbody tr th:only-of-type {\n",
       "        vertical-align: middle;\n",
       "    }\n",
       "\n",
       "    .dataframe tbody tr th {\n",
       "        vertical-align: top;\n",
       "    }\n",
       "\n",
       "    .dataframe thead th {\n",
       "        text-align: right;\n",
       "    }\n",
       "</style>\n",
       "<table border=\"1\" class=\"dataframe\">\n",
       "  <thead>\n",
       "    <tr style=\"text-align: right;\">\n",
       "      <th></th>\n",
       "      <th>Title</th>\n",
       "      <th>len</th>\n",
       "      <th>num_pages</th>\n",
       "    </tr>\n",
       "  </thead>\n",
       "  <tbody>\n",
       "    <tr>\n",
       "      <th>1</th>\n",
       "      <td>Дальнейшие приключения Робинзона Крузо</td>\n",
       "      <td>316541</td>\n",
       "      <td>159</td>\n",
       "    </tr>\n",
       "    <tr>\n",
       "      <th>2</th>\n",
       "      <td>Сказка о жабе и розе</td>\n",
       "      <td>12609</td>\n",
       "      <td>7</td>\n",
       "    </tr>\n",
       "    <tr>\n",
       "      <th>3</th>\n",
       "      <td>Бобыль</td>\n",
       "      <td>38263</td>\n",
       "      <td>20</td>\n",
       "    </tr>\n",
       "    <tr>\n",
       "      <th>7</th>\n",
       "      <td>Делай со мной что захочешь</td>\n",
       "      <td>1247741</td>\n",
       "      <td>624</td>\n",
       "    </tr>\n",
       "    <tr>\n",
       "      <th>8</th>\n",
       "      <td>Инспектор пришёл</td>\n",
       "      <td>129612</td>\n",
       "      <td>65</td>\n",
       "    </tr>\n",
       "  </tbody>\n",
       "</table>\n",
       "</div>"
      ]
     },
     "execution_count": 114,
     "metadata": {},
     "output_type": "execute_result"
    }
   ],
   "execution_count": 114
  },
  {
   "metadata": {
    "ExecuteTime": {
     "end_time": "2025-05-01T20:55:25.992139Z",
     "start_time": "2025-05-01T20:55:25.923249Z"
    }
   },
   "cell_type": "code",
   "source": [
    "import numpy as np \n",
    "\n",
    "TARGET_PAGES_PER_BOOK = 10\n",
    "output_data = []\n",
    "\n",
    "for index, row in df_selected.iterrows():\n",
    "    book_id = row['ID']\n",
    "    title = row['Title']\n",
    "    author = row['Author']\n",
    "    total_pages = row['num_pages']\n",
    "    \n",
    "    num_sample_pages = min(total_pages - 1, TARGET_PAGES_PER_BOOK)\n",
    "    if num_sample_pages == 0:\n",
    "         page_indices = [1]\n",
    "    else:\n",
    "        page_indices = np.linspace(1, total_pages - 1, num_sample_pages)\n",
    "        page_indices = np.unique(np.floor(page_indices).astype(int) + 1)\n",
    "        \n",
    "    for page_num in page_indices:\n",
    "        if page_num <= total_pages:\n",
    "            output_data.append({\n",
    "                'ID': book_id,\n",
    "                'title': title,\n",
    "                'author': author,\n",
    "                'target_page': int(page_num),\n",
    "                'total_pages': total_pages,\n",
    "                'text_length': row['len']\n",
    "            })"
   ],
   "id": "1fe07f83112e0b41",
   "outputs": [],
   "execution_count": 115
  },
  {
   "metadata": {
    "ExecuteTime": {
     "end_time": "2025-05-01T20:55:26.013232Z",
     "start_time": "2025-05-01T20:55:26.008007Z"
    }
   },
   "cell_type": "code",
   "source": "df_output = pd.DataFrame(output_data)\n",
   "id": "b4715ddd752fe5a6",
   "outputs": [],
   "execution_count": 116
  },
  {
   "metadata": {
    "ExecuteTime": {
     "end_time": "2025-05-01T20:56:00.882714Z",
     "start_time": "2025-05-01T20:56:00.822641Z"
    }
   },
   "cell_type": "code",
   "source": [
    "import matplotlib.pyplot as plt\n",
    "\n",
    "df_output['ID'].value_counts().value_counts().plot(kind='bar')\n",
    "plt.title('pages number in books')\n",
    "plt.show()"
   ],
   "id": "aa513505de051040",
   "outputs": [
    {
     "data": {
      "text/plain": [
       "<Figure size 640x480 with 1 Axes>"
      ],
      "image/png": "[encoded data removed]"
     },
     "metadata": {},
     "output_type": "display_data"
    }
   ],
   "execution_count": 120
  }
 ],
 "metadata": {
  "kernelspec": {
   "display_name": "Python 3",
   "language": "python",
   "name": "python3"
  },
  "language_info": {
   "codemirror_mode": {
    "name": "ipython",
    "version": 2
   },
   "file_extension": ".py",
   "mimetype": "text/x-python",
   "name": "python",
   "nbconvert_exporter": "python",
   "pygments_lexer": "ipython2",
   "version": "2.7.6"
  }
 },
 "nbformat": 4,
 "nbformat_minor": 5
}
