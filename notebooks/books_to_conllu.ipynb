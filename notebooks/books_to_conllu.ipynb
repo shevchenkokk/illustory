{
 "cells": [
  {
   "cell_type": "code",
   "execution_count": 169,
   "id": "initial_id",
   "metadata": {
    "ExecuteTime": {
     "end_time": "2025-05-19T00:23:09.669172Z",
     "start_time": "2025-05-19T00:23:09.666396Z"
    },
    "collapsed": true
   },
   "outputs": [],
   "source": [
    "from datasets import load_dataset, concatenate_datasets"
   ]
  },
  {
   "cell_type": "code",
   "execution_count": 170,
   "id": "1d06e55ca2d0a819",
   "metadata": {
    "ExecuteTime": {
     "end_time": "2025-05-19T00:23:13.412699Z",
     "start_time": "2025-05-19T00:23:09.671459Z"
    }
   },
   "outputs": [],
   "source": [
    "dataset = load_dataset(\"slon-hk/BooksSummarizationRU\")"
   ]
  },
  {
   "cell_type": "code",
   "execution_count": 171,
   "id": "cca8142a4fb3c542",
   "metadata": {
    "ExecuteTime": {
     "end_time": "2025-05-19T00:23:13.435690Z",
     "start_time": "2025-05-19T00:23:13.433354Z"
    }
   },
   "outputs": [
    {
     "data": {
      "text/plain": [
       "DatasetDict({\n",
       "    train: Dataset({\n",
       "        features: ['ID', 'Title', 'Author', 'Summary', 'Full Text'],\n",
       "        num_rows: 1271\n",
       "    })\n",
       "    test: Dataset({\n",
       "        features: ['ID', 'Title', 'Author', 'Summary', 'Full Text'],\n",
       "        num_rows: 142\n",
       "    })\n",
       "})"
      ]
     },
     "execution_count": 171,
     "metadata": {},
     "output_type": "execute_result"
    }
   ],
   "source": [
    "dataset"
   ]
  },
  {
   "cell_type": "code",
   "execution_count": 172,
   "id": "b3e50fd317657f9b",
   "metadata": {
    "ExecuteTime": {
     "end_time": "2025-05-19T00:23:13.527091Z",
     "start_time": "2025-05-19T00:23:13.450342Z"
    }
   },
   "outputs": [],
   "source": [
    "dataset = dataset.map(lambda x: {\"len\": len(x[\"Full Text\"])})"
   ]
  },
  {
   "cell_type": "code",
   "execution_count": 173,
   "id": "acf315002ae28cd6",
   "metadata": {
    "ExecuteTime": {
     "end_time": "2025-05-19T00:23:13.545701Z",
     "start_time": "2025-05-19T00:23:13.539020Z"
    }
   },
   "outputs": [],
   "source": [
    "full_dataset = concatenate_datasets([dataset[\"train\"], dataset[\"test\"]])"
   ]
  },
  {
   "cell_type": "code",
   "execution_count": 174,
   "id": "86c10c87831f1b6e",
   "metadata": {
    "ExecuteTime": {
     "end_time": "2025-05-19T00:23:14.760448Z",
     "start_time": "2025-05-19T00:23:13.557683Z"
    }
   },
   "outputs": [
    {
     "data": {
      "text/plain": [
       "(1413, 6)"
      ]
     },
     "execution_count": 174,
     "metadata": {},
     "output_type": "execute_result"
    }
   ],
   "source": [
    "import pandas as pd\n",
    "\n",
    "df = pd.DataFrame(full_dataset)\n",
    "df.shape"
   ]
  },
  {
   "cell_type": "code",
   "execution_count": 175,
   "id": "f3e74c16cbd4d090",
   "metadata": {
    "ExecuteTime": {
     "end_time": "2025-05-19T00:23:14.776803Z",
     "start_time": "2025-05-19T00:23:14.773129Z"
    }
   },
   "outputs": [
    {
     "data": {
      "text/plain": [
       "ID           0\n",
       "Title        0\n",
       "Author       0\n",
       "Summary      0\n",
       "Full Text    0\n",
       "len          0\n",
       "dtype: int64"
      ]
     },
     "execution_count": 175,
     "metadata": {},
     "output_type": "execute_result"
    }
   ],
   "source": [
    "df.isnull().sum()"
   ]
  },
  {
   "cell_type": "code",
   "execution_count": 176,
   "id": "948ace9f",
   "metadata": {},
   "outputs": [],
   "source": [
    "df['Author'] = df['Author'].str.lower()\n",
    "df.drop(columns='Summary', inplace=True)"
   ]
  },
  {
   "cell_type": "code",
   "execution_count": 177,
   "id": "4cd6b563e9167d88",
   "metadata": {
    "ExecuteTime": {
     "end_time": "2025-05-19T00:23:14.835600Z",
     "start_time": "2025-05-19T00:23:14.804337Z"
    }
   },
   "outputs": [
    {
     "data": {
      "text/plain": [
       "(649, 5)"
      ]
     },
     "execution_count": 177,
     "metadata": {},
     "output_type": "execute_result"
    }
   ],
   "source": [
    "df = (\n",
    "    df.assign(author_books=lambda d: d['Author'].map(d['Author'].value_counts()))\n",
    "    .sort_values(by=['Title', 'author_books'], ascending=[True, False])\n",
    "    .drop_duplicates(subset=['Title', 'Author'], keep='first')\n",
    "    .drop(columns=['author_books'])\n",
    ")\n",
    "df.shape"
   ]
  },
  {
   "cell_type": "code",
   "execution_count": 178,
   "id": "2067257c",
   "metadata": {},
   "outputs": [
    {
     "data": {
      "text/html": [
       "<div>\n",
       "<style scoped>\n",
       "    .dataframe tbody tr th:only-of-type {\n",
       "        vertical-align: middle;\n",
       "    }\n",
       "\n",
       "    .dataframe tbody tr th {\n",
       "        vertical-align: top;\n",
       "    }\n",
       "\n",
       "    .dataframe thead th {\n",
       "        text-align: right;\n",
       "    }\n",
       "</style>\n",
       "<table border=\"1\" class=\"dataframe\">\n",
       "  <thead>\n",
       "    <tr style=\"text-align: right;\">\n",
       "      <th></th>\n",
       "      <th>ID</th>\n",
       "      <th>Title</th>\n",
       "      <th>Author</th>\n",
       "      <th>Full Text</th>\n",
       "      <th>len</th>\n",
       "    </tr>\n",
       "  </thead>\n",
       "  <tbody>\n",
       "    <tr>\n",
       "      <th>76</th>\n",
       "      <td>738</td>\n",
       "      <td>Кавказский пленник</td>\n",
       "      <td>александр пушкин</td>\n",
       "      <td>Кавказский пленник\\nТолстой Лев Николаевич\\nКа...</td>\n",
       "      <td>42093</td>\n",
       "    </tr>\n",
       "    <tr>\n",
       "      <th>984</th>\n",
       "      <td>1187</td>\n",
       "      <td>Кавказский пленник</td>\n",
       "      <td>саша чёрный</td>\n",
       "      <td>Кавказский пленник\\nМихаил Юрьевич Лермонтов\\n...</td>\n",
       "      <td>18995</td>\n",
       "    </tr>\n",
       "    <tr>\n",
       "      <th>165</th>\n",
       "      <td>1280</td>\n",
       "      <td>Лейли и Меджнун</td>\n",
       "      <td>низами гянджеви</td>\n",
       "      <td>Лейли и Меджнун\\nНизами Гянджеви\\nЛЕЙЛИ И МЕДЖ...</td>\n",
       "      <td>123367</td>\n",
       "    </tr>\n",
       "    <tr>\n",
       "      <th>663</th>\n",
       "      <td>1337</td>\n",
       "      <td>Лейли и Меджнун</td>\n",
       "      <td>мухаммед физули</td>\n",
       "      <td>Лейли и Меджнун\\nНизами Гянджеви\\nЛЕЙЛИ И МЕДЖ...</td>\n",
       "      <td>123367</td>\n",
       "    </tr>\n",
       "  </tbody>\n",
       "</table>\n",
       "</div>"
      ],
      "text/plain": [
       "       ID               Title            Author  \\\n",
       "76    738  Кавказский пленник  александр пушкин   \n",
       "984  1187  Кавказский пленник       саша чёрный   \n",
       "165  1280     Лейли и Меджнун   низами гянджеви   \n",
       "663  1337     Лейли и Меджнун   мухаммед физули   \n",
       "\n",
       "                                             Full Text     len  \n",
       "76   Кавказский пленник\\nТолстой Лев Николаевич\\nКа...   42093  \n",
       "984  Кавказский пленник\\nМихаил Юрьевич Лермонтов\\n...   18995  \n",
       "165  Лейли и Меджнун\\nНизами Гянджеви\\nЛЕЙЛИ И МЕДЖ...  123367  \n",
       "663  Лейли и Меджнун\\nНизами Гянджеви\\nЛЕЙЛИ И МЕДЖ...  123367  "
      ]
     },
     "execution_count": 178,
     "metadata": {},
     "output_type": "execute_result"
    }
   ],
   "source": [
    "df[df.duplicated(subset=['Title'], keep=False)].sort_values('Title')"
   ]
  },
  {
   "cell_type": "code",
   "execution_count": 179,
   "id": "2424bca6102fd895",
   "metadata": {
    "ExecuteTime": {
     "end_time": "2025-05-19T00:23:14.892418Z",
     "start_time": "2025-05-19T00:23:14.889495Z"
    }
   },
   "outputs": [],
   "source": [
    "import math\n",
    "\n",
    "CHARS_PER_PAGE = 2000\n",
    "df['num_pages'] = df['len'].apply(lambda x: math.ceil(x / CHARS_PER_PAGE))\n",
    "df = df[df['num_pages'] > 1]"
   ]
  },
  {
   "cell_type": "code",
   "execution_count": 180,
   "id": "ea09f379",
   "metadata": {},
   "outputs": [],
   "source": [
    "from razdel import sentenize\n",
    "\n",
    "df['num_sentences'] = df['Full Text'].apply(lambda x: len(list(sentenize(x))))"
   ]
  },
  {
   "cell_type": "code",
   "execution_count": 181,
   "id": "647902fee329d3df",
   "metadata": {
    "ExecuteTime": {
     "end_time": "2025-05-19T00:23:14.879646Z",
     "start_time": "2025-05-19T00:23:14.874584Z"
    }
   },
   "outputs": [
    {
     "name": "stdout",
     "output_type": "stream",
     "text": [
      "Median length: 2246.0\n",
      "Mean length: 3492.703875968992\n",
      "Max length: 3159.399999999999\n",
      "Min length: 155.4\n"
     ]
    }
   ],
   "source": [
    "field = 'num_sentences'\n",
    "\n",
    "median_len = df[field].median()\n",
    "print(f\"Median length: {median_len}\")\n",
    "mean_len = df[field].mean()\n",
    "print(f\"Mean length: {mean_len}\")\n",
    "max_len = df[field].quantile(0.6)\n",
    "print(f\"Max length: {max_len}\")\n",
    "min_len = df[field].quantile(0.1)\n",
    "print(f\"Min length: {min_len}\")"
   ]
  },
  {
   "cell_type": "code",
   "execution_count": 182,
   "id": "9a8a1a6a9942a84c",
   "metadata": {
    "ExecuteTime": {
     "end_time": "2025-05-19T00:23:14.912367Z",
     "start_time": "2025-05-19T00:23:14.907185Z"
    }
   },
   "outputs": [
    {
     "name": "stdout",
     "output_type": "stream",
     "text": [
      "(322, 7)\n"
     ]
    },
    {
     "data": {
      "text/plain": [
       "count     322.000000\n",
       "mean     1153.937888\n",
       "std       965.402856\n",
       "min       156.000000\n",
       "25%       313.750000\n",
       "50%       733.000000\n",
       "75%      1893.500000\n",
       "max      3147.000000\n",
       "Name: num_sentences, dtype: float64"
      ]
     },
     "execution_count": 182,
     "metadata": {},
     "output_type": "execute_result"
    }
   ],
   "source": [
    "df_selected = df[(df[field] <= max_len) & (df[field] >= min_len)].copy()\n",
    "print(df_selected.shape)\n",
    "df_selected[field].describe()"
   ]
  },
  {
   "cell_type": "code",
   "execution_count": 183,
   "id": "38577e14",
   "metadata": {},
   "outputs": [
    {
     "data": {
      "text/plain": [
       "count    322.000000\n",
       "mean      49.357143\n",
       "std       49.213754\n",
       "min        5.000000\n",
       "25%       14.000000\n",
       "50%       30.000000\n",
       "75%       68.000000\n",
       "max      247.000000\n",
       "Name: num_pages, dtype: float64"
      ]
     },
     "execution_count": 183,
     "metadata": {},
     "output_type": "execute_result"
    }
   ],
   "source": [
    "df_selected['num_pages'].describe()"
   ]
  },
  {
   "cell_type": "code",
   "execution_count": 184,
   "id": "6c0bcf99",
   "metadata": {},
   "outputs": [
    {
     "data": {
      "text/plain": [
       "count       322.000000\n",
       "mean      97699.590062\n",
       "std       98462.552279\n",
       "min        8041.000000\n",
       "25%       26218.750000\n",
       "50%       59423.000000\n",
       "75%      134330.750000\n",
       "max      493243.000000\n",
       "Name: len, dtype: float64"
      ]
     },
     "execution_count": 184,
     "metadata": {},
     "output_type": "execute_result"
    }
   ],
   "source": [
    "df_selected['len'].describe()"
   ]
  },
  {
   "cell_type": "code",
   "execution_count": 185,
   "id": "22f833d82abbf5c3",
   "metadata": {
    "ExecuteTime": {
     "end_time": "2025-05-19T00:23:18.124049Z",
     "start_time": "2025-05-19T00:23:18.117557Z"
    }
   },
   "outputs": [
    {
     "data": {
      "text/html": [
       "<div>\n",
       "<style scoped>\n",
       "    .dataframe tbody tr th:only-of-type {\n",
       "        vertical-align: middle;\n",
       "    }\n",
       "\n",
       "    .dataframe tbody tr th {\n",
       "        vertical-align: top;\n",
       "    }\n",
       "\n",
       "    .dataframe thead th {\n",
       "        text-align: right;\n",
       "    }\n",
       "</style>\n",
       "<table border=\"1\" class=\"dataframe\">\n",
       "  <thead>\n",
       "    <tr style=\"text-align: right;\">\n",
       "      <th></th>\n",
       "      <th>Title</th>\n",
       "      <th>len</th>\n",
       "      <th>num_pages</th>\n",
       "      <th>num_sentences</th>\n",
       "    </tr>\n",
       "  </thead>\n",
       "  <tbody>\n",
       "    <tr>\n",
       "      <th>0</th>\n",
       "      <td>«Простите нас!»</td>\n",
       "      <td>25903</td>\n",
       "      <td>13</td>\n",
       "      <td>302</td>\n",
       "    </tr>\n",
       "    <tr>\n",
       "      <th>1</th>\n",
       "      <td>«Человек за бортом»</td>\n",
       "      <td>36979</td>\n",
       "      <td>19</td>\n",
       "      <td>489</td>\n",
       "    </tr>\n",
       "    <tr>\n",
       "      <th>2</th>\n",
       "      <td>Авария</td>\n",
       "      <td>12090</td>\n",
       "      <td>7</td>\n",
       "      <td>179</td>\n",
       "    </tr>\n",
       "    <tr>\n",
       "      <th>3</th>\n",
       "      <td>Адский житель</td>\n",
       "      <td>59232</td>\n",
       "      <td>30</td>\n",
       "      <td>435</td>\n",
       "    </tr>\n",
       "    <tr>\n",
       "      <th>4</th>\n",
       "      <td>Александрийский шейх Али-Бану и его невольники</td>\n",
       "      <td>149352</td>\n",
       "      <td>75</td>\n",
       "      <td>1448</td>\n",
       "    </tr>\n",
       "  </tbody>\n",
       "</table>\n",
       "</div>"
      ],
      "text/plain": [
       "                                            Title     len  num_pages  \\\n",
       "0                                 «Простите нас!»   25903         13   \n",
       "1                             «Человек за бортом»   36979         19   \n",
       "2                                          Авария   12090          7   \n",
       "3                                   Адский житель   59232         30   \n",
       "4  Александрийский шейх Али-Бану и его невольники  149352         75   \n",
       "\n",
       "   num_sentences  \n",
       "0            302  \n",
       "1            489  \n",
       "2            179  \n",
       "3            435  \n",
       "4           1448  "
      ]
     },
     "execution_count": 185,
     "metadata": {},
     "output_type": "execute_result"
    }
   ],
   "source": [
    "df_selected.reset_index(drop=True, inplace=True)\n",
    "df_selected[['Title', 'len', 'num_pages', 'num_sentences']].head()"
   ]
  },
  {
   "cell_type": "code",
   "execution_count": 186,
   "id": "4bf6da7c",
   "metadata": {},
   "outputs": [
    {
     "data": {
      "text/html": [
       "<div>\n",
       "<style scoped>\n",
       "    .dataframe tbody tr th:only-of-type {\n",
       "        vertical-align: middle;\n",
       "    }\n",
       "\n",
       "    .dataframe tbody tr th {\n",
       "        vertical-align: top;\n",
       "    }\n",
       "\n",
       "    .dataframe thead th {\n",
       "        text-align: right;\n",
       "    }\n",
       "</style>\n",
       "<table border=\"1\" class=\"dataframe\">\n",
       "  <thead>\n",
       "    <tr style=\"text-align: right;\">\n",
       "      <th></th>\n",
       "      <th>ID</th>\n",
       "      <th>Title</th>\n",
       "      <th>Author</th>\n",
       "      <th>Full Text</th>\n",
       "      <th>len</th>\n",
       "      <th>num_pages</th>\n",
       "      <th>num_sentences</th>\n",
       "    </tr>\n",
       "  </thead>\n",
       "  <tbody>\n",
       "    <tr>\n",
       "      <th>0</th>\n",
       "      <td>205</td>\n",
       "      <td>«Простите нас!»</td>\n",
       "      <td>юрий бондарев</td>\n",
       "      <td>«Простите нас!»\\nЮрий Бондарев\\n«ПРОСТИТЕ НАС!...</td>\n",
       "      <td>25903</td>\n",
       "      <td>13</td>\n",
       "      <td>302</td>\n",
       "    </tr>\n",
       "    <tr>\n",
       "      <th>1</th>\n",
       "      <td>1373</td>\n",
       "      <td>«Человек за бортом»</td>\n",
       "      <td>к. м. станюкович</td>\n",
       "      <td>'Человек за бортом!'\\nСпасибо, что скачали кни...</td>\n",
       "      <td>36979</td>\n",
       "      <td>19</td>\n",
       "      <td>489</td>\n",
       "    </tr>\n",
       "    <tr>\n",
       "      <th>2</th>\n",
       "      <td>236</td>\n",
       "      <td>Авария</td>\n",
       "      <td>фридрих дюрренматт</td>\n",
       "      <td>Авария\\nЗегальский Витольд\\nАвария\\nВИТОЛЬД ЗЕ...</td>\n",
       "      <td>12090</td>\n",
       "      <td>7</td>\n",
       "      <td>179</td>\n",
       "    </tr>\n",
       "    <tr>\n",
       "      <th>3</th>\n",
       "      <td>879</td>\n",
       "      <td>Адский житель</td>\n",
       "      <td>ф. де ла м. фуке</td>\n",
       "      <td>Адский житель\\nДе Ла Мотт Фуке Фридрих\\nАдский...</td>\n",
       "      <td>59232</td>\n",
       "      <td>30</td>\n",
       "      <td>435</td>\n",
       "    </tr>\n",
       "    <tr>\n",
       "      <th>4</th>\n",
       "      <td>1334</td>\n",
       "      <td>Александрийский шейх Али-Бану и его невольники</td>\n",
       "      <td>вильгельм гауф</td>\n",
       "      <td>Александрийский шейх Али-Бану и его невольники...</td>\n",
       "      <td>149352</td>\n",
       "      <td>75</td>\n",
       "      <td>1448</td>\n",
       "    </tr>\n",
       "    <tr>\n",
       "      <th>...</th>\n",
       "      <td>...</td>\n",
       "      <td>...</td>\n",
       "      <td>...</td>\n",
       "      <td>...</td>\n",
       "      <td>...</td>\n",
       "      <td>...</td>\n",
       "      <td>...</td>\n",
       "    </tr>\n",
       "    <tr>\n",
       "      <th>317</th>\n",
       "      <td>854</td>\n",
       "      <td>Эдип в Колоне</td>\n",
       "      <td>софокл</td>\n",
       "      <td>Эдип в Колоне\\nСофокл\\nЭдип в Колоне\\nТрагедия...</td>\n",
       "      <td>176829</td>\n",
       "      <td>89</td>\n",
       "      <td>3067</td>\n",
       "    </tr>\n",
       "    <tr>\n",
       "      <th>318</th>\n",
       "      <td>476</td>\n",
       "      <td>Эжени де Франваль</td>\n",
       "      <td>маркиз де сад</td>\n",
       "      <td>Эжени де Франваль\\nМаркиз де Сад\\nЭжени де Фра...</td>\n",
       "      <td>140876</td>\n",
       "      <td>71</td>\n",
       "      <td>1309</td>\n",
       "    </tr>\n",
       "    <tr>\n",
       "      <th>319</th>\n",
       "      <td>1365</td>\n",
       "      <td>Этрусская ваза</td>\n",
       "      <td>проспер мериме</td>\n",
       "      <td>Этрусская ваза\\nПроспер Мериме\\nЭТРУССКАЯ ВАЗА...</td>\n",
       "      <td>48527</td>\n",
       "      <td>25</td>\n",
       "      <td>642</td>\n",
       "    </tr>\n",
       "    <tr>\n",
       "      <th>320</th>\n",
       "      <td>55</td>\n",
       "      <td>Я в замке король</td>\n",
       "      <td>сьюзен хилл</td>\n",
       "      <td>Кто в замке король\\nСергей СМИРНОВ\\n(под псевд...</td>\n",
       "      <td>155777</td>\n",
       "      <td>78</td>\n",
       "      <td>2766</td>\n",
       "    </tr>\n",
       "    <tr>\n",
       "      <th>321</th>\n",
       "      <td>545</td>\n",
       "      <td>Ябеда</td>\n",
       "      <td>василий капнист</td>\n",
       "      <td>Ябеда\\nВсеволод НЕСТАЙКО\\nЯБЕДА\\n— Я більше не...</td>\n",
       "      <td>45061</td>\n",
       "      <td>23</td>\n",
       "      <td>957</td>\n",
       "    </tr>\n",
       "  </tbody>\n",
       "</table>\n",
       "<p>322 rows × 7 columns</p>\n",
       "</div>"
      ],
      "text/plain": [
       "       ID                                           Title              Author  \\\n",
       "0     205                                 «Простите нас!»       юрий бондарев   \n",
       "1    1373                             «Человек за бортом»    к. м. станюкович   \n",
       "2     236                                          Авария  фридрих дюрренматт   \n",
       "3     879                                   Адский житель    ф. де ла м. фуке   \n",
       "4    1334  Александрийский шейх Али-Бану и его невольники      вильгельм гауф   \n",
       "..    ...                                             ...                 ...   \n",
       "317   854                                   Эдип в Колоне              софокл   \n",
       "318   476                               Эжени де Франваль       маркиз де сад   \n",
       "319  1365                                  Этрусская ваза      проспер мериме   \n",
       "320    55                                Я в замке король         сьюзен хилл   \n",
       "321   545                                           Ябеда     василий капнист   \n",
       "\n",
       "                                             Full Text     len  num_pages  \\\n",
       "0    «Простите нас!»\\nЮрий Бондарев\\n«ПРОСТИТЕ НАС!...   25903         13   \n",
       "1    'Человек за бортом!'\\nСпасибо, что скачали кни...   36979         19   \n",
       "2    Авария\\nЗегальский Витольд\\nАвария\\nВИТОЛЬД ЗЕ...   12090          7   \n",
       "3    Адский житель\\nДе Ла Мотт Фуке Фридрих\\nАдский...   59232         30   \n",
       "4    Александрийский шейх Али-Бану и его невольники...  149352         75   \n",
       "..                                                 ...     ...        ...   \n",
       "317  Эдип в Колоне\\nСофокл\\nЭдип в Колоне\\nТрагедия...  176829         89   \n",
       "318  Эжени де Франваль\\nМаркиз де Сад\\nЭжени де Фра...  140876         71   \n",
       "319  Этрусская ваза\\nПроспер Мериме\\nЭТРУССКАЯ ВАЗА...   48527         25   \n",
       "320  Кто в замке король\\nСергей СМИРНОВ\\n(под псевд...  155777         78   \n",
       "321  Ябеда\\nВсеволод НЕСТАЙКО\\nЯБЕДА\\n— Я більше не...   45061         23   \n",
       "\n",
       "     num_sentences  \n",
       "0              302  \n",
       "1              489  \n",
       "2              179  \n",
       "3              435  \n",
       "4             1448  \n",
       "..             ...  \n",
       "317           3067  \n",
       "318           1309  \n",
       "319            642  \n",
       "320           2766  \n",
       "321            957  \n",
       "\n",
       "[322 rows x 7 columns]"
      ]
     },
     "execution_count": 186,
     "metadata": {},
     "output_type": "execute_result"
    }
   ],
   "source": [
    "df_selected"
   ]
  },
  {
   "cell_type": "code",
   "execution_count": 187,
   "id": "beeb8f8f",
   "metadata": {},
   "outputs": [],
   "source": [
    "df_selected.to_json('selected.jsonl', orient=\"records\", lines=True, force_ascii=False)"
   ]
  },
  {
   "cell_type": "markdown",
   "id": "28fd12cb",
   "metadata": {},
   "source": [
    "# CLEANED"
   ]
  },
  {
   "cell_type": "code",
   "execution_count": 1,
   "id": "ca98b6d3",
   "metadata": {},
   "outputs": [],
   "source": [
    "import pandas as pd\n",
    "df_loaded = pd.read_json(\"selected.jsonl\", lines=True, encoding=\"utf-8\")"
   ]
  },
  {
   "cell_type": "code",
   "execution_count": 2,
   "id": "c716be45",
   "metadata": {},
   "outputs": [
    {
     "data": {
      "text/html": [
       "<div>\n",
       "<style scoped>\n",
       "    .dataframe tbody tr th:only-of-type {\n",
       "        vertical-align: middle;\n",
       "    }\n",
       "\n",
       "    .dataframe tbody tr th {\n",
       "        vertical-align: top;\n",
       "    }\n",
       "\n",
       "    .dataframe thead th {\n",
       "        text-align: right;\n",
       "    }\n",
       "</style>\n",
       "<table border=\"1\" class=\"dataframe\">\n",
       "  <thead>\n",
       "    <tr style=\"text-align: right;\">\n",
       "      <th></th>\n",
       "      <th>ID</th>\n",
       "      <th>Title</th>\n",
       "      <th>Author</th>\n",
       "      <th>Full Text</th>\n",
       "      <th>len</th>\n",
       "      <th>num_pages</th>\n",
       "      <th>num_sentences</th>\n",
       "    </tr>\n",
       "  </thead>\n",
       "  <tbody>\n",
       "    <tr>\n",
       "      <th>0</th>\n",
       "      <td>205</td>\n",
       "      <td>«Простите нас!»</td>\n",
       "      <td>юрий бондарев</td>\n",
       "      <td>Южный экспресс задержался здесь не более пяти ...</td>\n",
       "      <td>25903</td>\n",
       "      <td>13</td>\n",
       "      <td>302</td>\n",
       "    </tr>\n",
       "    <tr>\n",
       "      <th>1</th>\n",
       "      <td>1373</td>\n",
       "      <td>«Человек за бортом»</td>\n",
       "      <td>к. м. станюкович</td>\n",
       "      <td>Жapa тропического дня начинала спадать. Солнце...</td>\n",
       "      <td>36979</td>\n",
       "      <td>19</td>\n",
       "      <td>489</td>\n",
       "    </tr>\n",
       "    <tr>\n",
       "      <th>2</th>\n",
       "      <td>236</td>\n",
       "      <td>Авария</td>\n",
       "      <td>фридрих дюрренматт</td>\n",
       "      <td>Он проснулся от звука зуммера. Тупо стал водит...</td>\n",
       "      <td>12090</td>\n",
       "      <td>7</td>\n",
       "      <td>179</td>\n",
       "    </tr>\n",
       "    <tr>\n",
       "      <th>3</th>\n",
       "      <td>879</td>\n",
       "      <td>Адский житель</td>\n",
       "      <td>ф. де ла м. фуке</td>\n",
       "      <td>Однажды под вечер приехал в Венецию - всем изв...</td>\n",
       "      <td>59232</td>\n",
       "      <td>30</td>\n",
       "      <td>435</td>\n",
       "    </tr>\n",
       "    <tr>\n",
       "      <th>4</th>\n",
       "      <td>1334</td>\n",
       "      <td>Александрийский шейх Али-Бану и его невольники</td>\n",
       "      <td>вильгельм гауф</td>\n",
       "      <td>Cтранным человеком был александрийский шейх Ал...</td>\n",
       "      <td>149352</td>\n",
       "      <td>75</td>\n",
       "      <td>1448</td>\n",
       "    </tr>\n",
       "    <tr>\n",
       "      <th>...</th>\n",
       "      <td>...</td>\n",
       "      <td>...</td>\n",
       "      <td>...</td>\n",
       "      <td>...</td>\n",
       "      <td>...</td>\n",
       "      <td>...</td>\n",
       "      <td>...</td>\n",
       "    </tr>\n",
       "    <tr>\n",
       "      <th>308</th>\n",
       "      <td>693</td>\n",
       "      <td>Чёрная стрела</td>\n",
       "      <td>р. л. стивенсон</td>\n",
       "      <td>Люблю звёзды. Могу смотреть на них бесконечно....</td>\n",
       "      <td>18949</td>\n",
       "      <td>10</td>\n",
       "      <td>428</td>\n",
       "    </tr>\n",
       "    <tr>\n",
       "      <th>309</th>\n",
       "      <td>121</td>\n",
       "      <td>Шесть персонажей в поисках автора</td>\n",
       "      <td>луиджи пиранделло</td>\n",
       "      <td>Персонажи еще не написанной комедии\\nОтец.\\nМа...</td>\n",
       "      <td>153258</td>\n",
       "      <td>77</td>\n",
       "      <td>2968</td>\n",
       "    </tr>\n",
       "    <tr>\n",
       "      <th>310</th>\n",
       "      <td>476</td>\n",
       "      <td>Эжени де Франваль</td>\n",
       "      <td>маркиз де сад</td>\n",
       "      <td>Движимые исключительно стремлением наставлять ...</td>\n",
       "      <td>140876</td>\n",
       "      <td>71</td>\n",
       "      <td>1309</td>\n",
       "    </tr>\n",
       "    <tr>\n",
       "      <th>311</th>\n",
       "      <td>1365</td>\n",
       "      <td>Этрусская ваза</td>\n",
       "      <td>проспер мериме</td>\n",
       "      <td>Огюста Сен-Клера не любили в так называемом «б...</td>\n",
       "      <td>48527</td>\n",
       "      <td>25</td>\n",
       "      <td>642</td>\n",
       "    </tr>\n",
       "    <tr>\n",
       "      <th>312</th>\n",
       "      <td>55</td>\n",
       "      <td>Я в замке король</td>\n",
       "      <td>сьюзен хилл</td>\n",
       "      <td>За солдатской столовой солдаты травили крыс. Н...</td>\n",
       "      <td>155777</td>\n",
       "      <td>78</td>\n",
       "      <td>2766</td>\n",
       "    </tr>\n",
       "  </tbody>\n",
       "</table>\n",
       "<p>313 rows × 7 columns</p>\n",
       "</div>"
      ],
      "text/plain": [
       "       ID                                           Title              Author  \\\n",
       "0     205                                 «Простите нас!»       юрий бондарев   \n",
       "1    1373                             «Человек за бортом»    к. м. станюкович   \n",
       "2     236                                          Авария  фридрих дюрренматт   \n",
       "3     879                                   Адский житель    ф. де ла м. фуке   \n",
       "4    1334  Александрийский шейх Али-Бану и его невольники      вильгельм гауф   \n",
       "..    ...                                             ...                 ...   \n",
       "308   693                                   Чёрная стрела     р. л. стивенсон   \n",
       "309   121               Шесть персонажей в поисках автора   луиджи пиранделло   \n",
       "310   476                               Эжени де Франваль       маркиз де сад   \n",
       "311  1365                                  Этрусская ваза      проспер мериме   \n",
       "312    55                                Я в замке король         сьюзен хилл   \n",
       "\n",
       "                                             Full Text     len  num_pages  \\\n",
       "0    Южный экспресс задержался здесь не более пяти ...   25903         13   \n",
       "1    Жapa тропического дня начинала спадать. Солнце...   36979         19   \n",
       "2    Он проснулся от звука зуммера. Тупо стал водит...   12090          7   \n",
       "3    Однажды под вечер приехал в Венецию - всем изв...   59232         30   \n",
       "4    Cтранным человеком был александрийский шейх Ал...  149352         75   \n",
       "..                                                 ...     ...        ...   \n",
       "308  Люблю звёзды. Могу смотреть на них бесконечно....   18949         10   \n",
       "309  Персонажи еще не написанной комедии\\nОтец.\\nМа...  153258         77   \n",
       "310  Движимые исключительно стремлением наставлять ...  140876         71   \n",
       "311  Огюста Сен-Клера не любили в так называемом «б...   48527         25   \n",
       "312  За солдатской столовой солдаты травили крыс. Н...  155777         78   \n",
       "\n",
       "     num_sentences  \n",
       "0              302  \n",
       "1              489  \n",
       "2              179  \n",
       "3              435  \n",
       "4             1448  \n",
       "..             ...  \n",
       "308            428  \n",
       "309           2968  \n",
       "310           1309  \n",
       "311            642  \n",
       "312           2766  \n",
       "\n",
       "[313 rows x 7 columns]"
      ]
     },
     "execution_count": 2,
     "metadata": {},
     "output_type": "execute_result"
    }
   ],
   "source": [
    "df_loaded"
   ]
  },
  {
   "cell_type": "code",
   "execution_count": 3,
   "id": "267ea1a4",
   "metadata": {},
   "outputs": [
    {
     "data": {
      "text/plain": [
       "30066892"
      ]
     },
     "execution_count": 3,
     "metadata": {},
     "output_type": "execute_result"
    }
   ],
   "source": [
    "df_loaded['len'] = df_loaded['Full Text'].str.len()\n",
    "df_loaded['len'].sum()"
   ]
  },
  {
   "cell_type": "code",
   "execution_count": 4,
   "id": "1d623097",
   "metadata": {},
   "outputs": [],
   "source": [
    "df_loaded['Full Text'] = df_loaded['Full Text'].str.replace(r'\\[.*?\\]', '', regex=True)"
   ]
  },
  {
   "cell_type": "code",
   "execution_count": 5,
   "id": "87506fc8",
   "metadata": {},
   "outputs": [
    {
     "data": {
      "text/plain": [
       "30048004"
      ]
     },
     "execution_count": 5,
     "metadata": {},
     "output_type": "execute_result"
    }
   ],
   "source": [
    "df_loaded['len'] = df_loaded['Full Text'].str.len()\n",
    "df_loaded['len'].sum()"
   ]
  },
  {
   "cell_type": "code",
   "execution_count": 6,
   "id": "07a6d644",
   "metadata": {},
   "outputs": [
    {
     "data": {
      "text/plain": [
       "Index(['ID', 'Title', 'Author', 'Full Text', 'len', 'num_pages',\n",
       "       'num_sentences'],\n",
       "      dtype='object')"
      ]
     },
     "execution_count": 6,
     "metadata": {},
     "output_type": "execute_result"
    }
   ],
   "source": [
    "df_loaded.columns"
   ]
  },
  {
   "cell_type": "code",
   "execution_count": 7,
   "id": "a674368851102538",
   "metadata": {
    "ExecuteTime": {
     "end_time": "2025-05-19T00:23:54.374633Z",
     "start_time": "2025-05-19T00:23:18.179805Z"
    }
   },
   "outputs": [
    {
     "name": "stdout",
     "output_type": "stream",
     "text": [
      "0 «Простите нас!» 25857 302\n",
      "1 «Человек за бортом» 36697 489\n",
      "2 Авария 12028 179\n",
      "3 Адский житель 59140 435\n",
      "4 Александрийский шейх Али-Бану и его невольники 149129 1448\n",
      "5 Аленький цветочек 43399 252\n",
      "6 Альберт 50593 650\n",
      "7 Алюминиевое солнце 62589 903\n",
      "8 Алёшкино сердце 24386 368\n",
      "9 Американские партизаны 230563 3003\n",
      "10 Анна Снегина 19158 477\n",
      "11 Антон-Горемыка 205551 1904\n",
      "12 Арбузная корка 18689 175\n",
      "13 Баргамот и Гараська 21135 214\n",
      "14 Барышня-крестьянка 35585 410\n",
      "15 Бататовая каша 34429 387\n",
      "16 Бахчисарайский фонтан 19101 248\n",
      "17 Бедность не порок 76983 2359\n",
      "18 Безлюбый 65825 793\n",
      "19 Белая цапля 21798 275\n",
      "20 Белый пудель 60615 923\n",
      "21 Бобыль 38230 331\n",
      "22 Британик 18105 227\n",
      "23 Бузинная матушка 14096 200\n",
      "24 Буриданов осёл 473705 3011\n",
      "25 В прекрасном и яростном мире\n",
      "Машинист Мальцев 25287 290\n",
      "26 В чаще 17496 287\n",
      "27 Ваганов 16459 239\n",
      "28 Ванина Ванини 52679 630\n",
      "29 Василий Тёркин 127955 2288\n",
      "30 Веер леди Уиндермир 104698 2995\n",
      "31 Великая шахматная доска\n",
      "Господство Америки и его геостратегические императивы 474283 2443\n",
      "32 Величие и падение короля Оттокара 134265 2931\n",
      "33 Венера в мехах 230988 2781\n",
      "34 Вечер на бивуаке 17877 196\n",
      "35 Вешние воды 122376 2334\n",
      "36 Видение о Петре Пахаре 16317 194\n",
      "37 Вильгельм Телль 148428 2990\n",
      "38 Виндзорские насмешницы 175928 3147\n",
      "39 Виннипегский волк 25317 275\n",
      "40 Владимир Маяковский 26268 283\n",
      "41 Влюблённый дьявол 133933 1465\n",
      "42 Война за креатив\n",
      "Как преодолеть внутренние барьеры и начать творить 136976 1860\n",
      "43 Воры 29693 329\n",
      "44 Восковая персона 203684 2771\n",
      "45 Воскресение 22754 253\n",
      "46 Врач своей чести 104397 1596\n",
      "47 Вяленая вобла 22954 234\n",
      "48 Гадюка 14672 320\n",
      "49 Гамбринус 47672 479\n",
      "50 Гамлет Щигровского уезда 49194 473\n",
      "51 Где колбаса и чара, там кончается свара 35315 1059\n",
      "52 Где сходилось небо с холмами 117322 1199\n",
      "53 Гейнрих фон Офтердинген 269563 2804\n",
      "54 Герман и Доротея 113357 1142\n",
      "55 Гиперболоид инженера Гарина 8838 162\n",
      "56 Город Мастеров\n",
      "или Сказка о двух горбунах 59837 1989\n",
      "57 Городок в табакерке 14809 181\n",
      "58 Горькая судьбина 107224 2050\n",
      "59 Горя бояться — счастья не видать 75953 2801\n",
      "60 Господин из Сан-Франциско 43458 185\n",
      "61 Гофолия 106102 1454\n",
      "62 Гуттаперчевый мальчик 85272 723\n",
      "63 Дальнейшие приключения Робинзона Крузо 316378 1817\n",
      "64 Дама с собачкой 30944 317\n",
      "65 Дама-невидимка 95239 2080\n",
      "66 Двадцать четыре часа из жизни женщины 112764 826\n",
      "67 Двенадцать спящих дев 47654 862\n",
      "68 Дебют Мэгги 15646 189\n",
      "69 Детство Никиты 14838 249\n",
      "70 Джельсомино в Стране лжецов 188585 2486\n",
      "71 Дневник лишнего человека 100908 1022\n",
      "72 Дневник обольстителя 303234 2887\n",
      "73 Домострой 307584 1586\n",
      "74 Дороги Фландрии 493179 637\n",
      "75 Дюжина ножей в спину революции 69698 1045\n",
      "76 Дюймовочка 19459 216\n",
      "77 Епифанские шлюзы 355869 1847\n",
      "78 Ермолай и мельничиха 21004 299\n",
      "79 Жан Сбогар 215655 1603\n",
      "80 Живые мощи 25032 402\n",
      "81 Жизнь Василия Фивейского 156914 1584\n",
      "82 Житие Марии Египетской 39994 303\n",
      "83 Завтра была война 27903 175\n",
      "84 Загадка Торского моста 46739 680\n",
      "85 Загадка поместья Шоскомб 29648 497\n",
      "86 Заколдованное место\n",
      "Быль, рассказанная дьячком ***ской церкви 14592 204\n",
      "87 Законы Грэйс\n",
      "Как помочь себе самому 16205 255\n",
      "88 Запечатлённый ангел 127916 1020\n",
      "89 Звоните и приезжайте 60295 1295\n",
      "90 Звёздная сыпь 28263 511\n",
      "91 Зойкина квартира 73886 2588\n",
      "92 Золото и любовь 12964 186\n",
      "93 Иван Фёдорович Шпонька и его тётушка 48704 509\n",
      "94 Иван — крестьянский сын и Чудо-юдо 14838 249\n",
      "95 Игра снов 96394 2759\n",
      "96 Игрушечного дела людишки 63944 640\n",
      "97 Изменение 452081 1656\n",
      "98 Илья Муромец 24396 322\n",
      "99 Иной свет\n",
      "или Государства и империи Луны 213613 1164\n",
      "100 Искусство путешествовать 390758 2645\n",
      "101 Исповедь юмориста 18105 227\n",
      "102 История жизни покойного Джонатана Уайльда Великого 400456 2246\n",
      "103 История жизни пройдохи по имени Дон Паблос 348643 2553\n",
      "104 История жилички под вуалью 22736 317\n",
      "105 История кавалера де Грие и Манон Леско 340325 3116\n",
      "106 История любовных похождений одинокой женщины 211302 2468\n",
      "107 История севарамбов 401750 2585\n",
      "108 Исчезновение леди Фрэнсис Карфэкс 40473 589\n",
      "109 Иуда Искариот 142175 1696\n",
      "110 Кавказский пленник 41190 741\n",
      "111 Кавказский пленник 18844 309\n",
      "112 Каждый мечтает о собаке 195677 3099\n",
      "113 Как важно быть серьёзным 108349 3075\n",
      "114 Как я ловил человечков 9325 231\n",
      "115 Как я нажил 500 000 000\n",
      "Мемуары миллиардера 250228 1754\n",
      "116 Каменный гость 26021 518\n",
      "117 Камера Обскура 36356 456\n",
      "118 Капитанская дочка 196405 2786\n",
      "119 Карась-идеалист 20254 287\n",
      "120 Кафедра филантроматематики 15064 165\n",
      "121 Кентавр 7970 200\n",
      "122 Кирпичные острова 139026 2785\n",
      "123 Клад 18081 280\n",
      "124 Клуб самоубийц 46938 288\n",
      "125 Книга о вреде «здорового питания»\n",
      "Как жить до 100 лет не болея 189522 1839\n",
      "126 Когда в доме одиноко 40620 468\n",
      "127 Конец Чарльза Огастеса Милвертона 32913 491\n",
      "128 Королевская Аналостанка 50504 632\n",
      "129 Красное дерево 127983 1382\n",
      "130 Крещение поворотом 19215 281\n",
      "131 Куст сирени 10478 162\n",
      "132 Куцый 39093 434\n",
      "133 Лазоревая степь 15695 243\n",
      "134 Левша\n",
      "Сказ о тульском косом левше и о стальной блохе 65245 575\n",
      "135 Лейли и Меджнун 123319 1800\n",
      "136 Лесная капель 107195 1004\n",
      "137 Лесной царь 22880 248\n",
      "138 Листригоны 87586 782\n",
      "139 Лобо 28731 291\n",
      "140 Лошадиные ноги 25722 375\n",
      "141 Лузиады 305608 2811\n",
      "142 Луч света в тёмном царстве 10196 199\n",
      "143 Лысая певица 47017 1569\n",
      "144 Лёля и Минька 55002 877\n",
      "145 Лёнька Пантелеев 24946 313\n",
      "146 Макар Чудра 23124 387\n",
      "147 Малахитовая шкатулка 18812 317\n",
      "148 Маленькая печальная повесть 134351 2302\n",
      "149 Мальчик у моря 139370 2741\n",
      "150 Мартин Иден 43458 185\n",
      "151 Матросик 15856 218\n",
      "152 Месяц в деревне 22485 345\n",
      "153 Микромегас 44330 354\n",
      "154 Мисс Джин Броди в расцвете лет 231148 2361\n",
      "155 Мнимый больной 111677 2823\n",
      "156 Модная лавка 71541 2007\n",
      "157 Мой инсульт был мне наукой\n",
      "История собственной болезни, рассказанная нейробиологом 343006 2909\n",
      "158 Мой первый друг, мой друг бесценный 39197 455\n",
      "159 Мой сосед Радилов 14780 162\n",
      "160 Моление Даниила Заточника 26368 271\n",
      "161 Муки ада 56249 525\n",
      "162 Мустанг-иноходец 40589 458\n",
      "163 На поле Куликовом 32376 374\n",
      "164 Нанкинский Христос 21907 211\n",
      "165 Наоборот 384388 1804\n",
      "166 Наталья, боярская дочь 76754 740\n",
      "167 Невский проспект 71422 617\n",
      "168 Невыносимая лёгкость бытия 70569 1401\n",
      "169 Необыкновенное приключение некоего Ганса Пфааля 99659 737\n",
      "170 Несвоевременные мысли 364718 2611\n",
      "171 Никомед 85871 1136\n",
      "172 Нильс Люне 303438 2558\n",
      "173 Новые записи Ци Се\n",
      "или О чём не говорил Конфуций 65154 799\n",
      "174 Новые страдания юного В. 169804 3134\n",
      "175 Ночной поезд 53815 971\n",
      "176 Нуреддин 64516 1081\n",
      "177 Обращение Джимми Валентайна 15643 216\n",
      "178 Обряд дома Месгрейвов 40355 423\n",
      "179 Одиль 197764 2889\n",
      "180 Однодум 60466 475\n",
      "181 Озма из страны Оз 192297 2425\n",
      "182 Озорник 34633 503\n",
      "183 Окружи себя лучшими 366009 3027\n",
      "184 Опера нищего 126087 2203\n",
      "185 Основы управления проектами 236691 1953\n",
      "186 Остров Борнгольм 22724 204\n",
      "187 Остров доктора Моро 223689 2979\n",
      "188 Отель с привидениями 165242 2587\n",
      "189 Очарованный странник 241937 2068\n",
      "190 Падение дома Ашеров 36371 248\n",
      "191 Паломничество Чайльд-Гарольда 217586 2372\n",
      "192 Переписка Андрея Курбского с Иваном Грозным 46841 271\n",
      "193 Песнь о зубре 54675 570\n",
      "194 Песнь торжествующей любви 39351 369\n",
      "195 Песня про царя Ивана Васильевича\n",
      "молодого опричника и удалого купца Калашникова 20625 216\n",
      "196 Письма Асперна 216279 1985\n",
      "197 Письма к госпоже Каландрини 316232 2765\n",
      "198 По праву памяти 15049 181\n",
      "199 Повести покойного Ивана Петровича Белкина 123700 1407\n",
      "200 Повесть о приключениях Артура Гордона Пима 345512 2545\n",
      "201 Повесть о том, как поссорился Иван Иванович с Иваном Никифоровичем 92319 1021\n",
      "202 Полинька Сакс 143611 1870\n",
      "203 Полотенце с петухом 53928 666\n",
      "204 Последние холода 172354 2899\n",
      "205 Похищение локона 35524 415\n",
      "206 Похищенное письмо 39713 375\n",
      "207 Прекрасное лето 157818 2075\n",
      "208 Привидение в Инженерном замке 26381 172\n",
      "209 Пригожая повариха\n",
      "или Похождение развратной женщины 94429 581\n",
      "210 Призрак Александра Вольфа 250555 2284\n",
      "211 Приключения Гекльберри Финна 122376 2334\n",
      "212 Прилетала сова 118242 1532\n",
      "213 Принц Фридрих Гомбургский 95091 2137\n",
      "214 Происшествие на вилле «Три конька» 31524 556\n",
      "215 Профессия миссис Уоррен 127867 3073\n",
      "216 Путешествие пилигрима 230348 2829\n",
      "217 Путь-дороженька 70691 1109\n",
      "218 Пять женщин, предавшихся любви 151372 1883\n",
      "219 Пять зёрнышек апельсина 35948 475\n",
      "220 Разбитый кувшин 81274 2189\n",
      "221 Рассказ о Сергее Петровиче 64307 442\n",
      "222 Рассказ о любви 15165 229\n",
      "223 Рассказ о семи повешенных 134146 1614\n",
      "224 Рикки-Тикки-Тави 31881 433\n",
      "225 Ринкитинк в стране Оз 219219 2651\n",
      "226 Рождественская ночь 10395 157\n",
      "227 Роковые яйца 137553 1670\n",
      "228 Ромео и Джульетта 10401 166\n",
      "229 Руслан и Людмила 93319 1318\n",
      "230 Русские соболя 14072 187\n",
      "231 Рыцарь Вася 11240 160\n",
      "232 Самоистязатель 89869 1692\n",
      "233 Самсон-борец 76594 750\n",
      "234 Свои люди — сочтёмся 111351 3104\n",
      "235 Свой круг 14315 285\n",
      "236 Севастопольские рассказы 9143 174\n",
      "237 Севильский озорник\n",
      "или Каменный гость 103555 2022\n",
      "238 Севильский цирюльник\n",
      "или Тщетная предосторожность 96213 2734\n",
      "239 Сельские жители 13758 338\n",
      "240 Семейное счастие 162681 1601\n",
      "241 Семеро против Фив 42529 633\n",
      "242 Семь дней творения 151562 1243\n",
      "243 Сердце на ладони 66439 1401\n",
      "244 Сказание о Кише 16134 201\n",
      "245 Сказка о Иване-царевиче и Сером Волке 41088 333\n",
      "246 Сказка о мёртвой царевне и семи богатырях 12208 282\n",
      "247 Сколько стоит долг 47987 991\n",
      "248 Слепой музыкант 246222 2496\n",
      "249 Слово о законе и благодати 33605 286\n",
      "250 Смерть Ивана Ильича 18657 278\n",
      "251 Смерть героя 70275 876\n",
      "252 Содом и Гоморра 54638 540\n",
      "253 Соловьиное эхо 178280 1286\n",
      "254 Сорочинская ярмарка 46811 493\n",
      "255 Сотрудники на всю жизнь\n",
      "Уроки лояльности от Southwest Airlines 151737 1363\n",
      "256 Спящая царевна 8838 162\n",
      "257 Стальное горло 17645 273\n",
      "258 Станционный смотритель 22266 252\n",
      "259 Старосветские помещики 46661 364\n",
      "260 Старуха Изергиль 39966 655\n",
      "261 Стойкий принц 84252 1528\n",
      "262 Страдания юного Вертера 228119 2348\n",
      "263 Странная история Доктора Джекила и Мистера Хайда 136897 1227\n",
      "264 Супруги Орловы 104231 1558\n",
      "265 Тарас Бульба 234896 2420\n",
      "266 Татьяна Борисовна и её племянник 23785 245\n",
      "267 Ташкент — город хлебный 157832 3051\n",
      "268 Тихое утро 8188 156\n",
      "269 Тишина 33130 368\n",
      "270 Тонио Крёгер 120200 1171\n",
      "271 Трагическая история доктора Фауста 103609 1618\n",
      "272 Трахинянки 130054 2089\n",
      "273 Трест, который лопнул 14760 158\n",
      "274 Тридцать лет спустя 18812 317\n",
      "275 Тупейный художник 38665 366\n",
      "276 Тьма египетская 16833 316\n",
      "277 Убийство в Эбби-Грейндж 44890 729\n",
      "278 Убийство на улице Морг 69144 752\n",
      "279 Уездный лекарь 18688 271\n",
      "280 Ужасный день 51524 523\n",
      "281 Уроки музыки 26783 518\n",
      "282 Утро помещика 98331 947\n",
      "283 Ученики в Саисе 87993 643\n",
      "284 Фараон и хорал 13202 162\n",
      "285 Фисташковое дерево 12691 156\n",
      "286 Флорвиль и Курваль\n",
      "или Неотвратимость судьбы 125572 1060\n",
      "287 Формион 88333 1704\n",
      "288 Фотография, на которой меня нет 40613 546\n",
      "289 Фуэнте Овехуна 94062 1897\n",
      "290 Фьезоланские нимфы 127983 1382\n",
      "291 Хаджи-Мурат 232114 2594\n",
      "292 Хлеб для собаки 34921 533\n",
      "293 Холюшино подворье 84258 1861\n",
      "294 Хорошим людям — доброе утро! 33278 745\n",
      "295 Царь Борис 139711 2904\n",
      "296 Царь Эдип 159459 2658\n",
      "297 Человек и слон 31747 379\n",
      "298 Человек на часах 33308 294\n",
      "299 Человек с рассечённой губой 44480 615\n",
      "300 Черемыш — брат героя 90448 1679\n",
      "301 Чертежи Брюса-Партингтона 59545 905\n",
      "302 Чертопханов и Недопюскин 33999 372\n",
      "303 Чижиково горе 31832 339\n",
      "304 Чувствительный и холодный 28704 253\n",
      "305 Чудак из шестого «Б» 112422 2101\n",
      "306 Чучело 11921 232\n",
      "307 Чёрная курица\n",
      "или Подземные жители 58556 624\n",
      "308 Чёрная стрела 18871 428\n",
      "309 Шесть персонажей в поисках автора 153140 2968\n",
      "310 Эжени де Франваль 140806 1309\n",
      "311 Этрусская ваза 48335 642\n",
      "312 Я в замке король 155631 2766\n"
     ]
    }
   ],
   "source": [
    "import time\n",
    "import requests\n",
    "import os\n",
    "import json\n",
    "\n",
    "UDPIPE_PORT = 8001\n",
    "def process_text_local_udpipe(text, port=UDPIPE_PORT, output_format='conllu'):\n",
    "    \"\"\"\n",
    "    Обрабатывает текст с помощью локального сервера UDPipe.\n",
    "    \"\"\"\n",
    "    url = f'http://localhost:{port}/process'\n",
    "    params = {\n",
    "        'tokenizer': 'ranges',\n",
    "        'tagger': '',\n",
    "        'parser': '',\n",
    "        'data': text,\n",
    "        'output': output_format,\n",
    "    }\n",
    "    try:\n",
    "        response = requests.post(url, data=params)\n",
    "        response.raise_for_status()\n",
    "        result_json = response.json()\n",
    "        if 'result' in result_json:\n",
    "            return result_json['result']\n",
    "        else:\n",
    "            raise Exception(f\"Ключ 'result' не найден в ответе от сервера: {result_json}\")\n",
    "    except json.JSONDecodeError:\n",
    "        raise Exception(f\"Сервер вернул невалидный JSON. Текст ответа: {response.text}\")\n",
    "    except requests.exceptions.RequestException as e:\n",
    "        raise Exception(f\"Ошибка при подключении к локальному серверу UDPipe: {e}\")\n",
    "\n",
    "if not os.path.exists('books'):\n",
    "    os.mkdir('books')\n",
    "for index, row in df_loaded.iterrows():\n",
    "    print(index, row['Title'], row['len'], row['num_sentences'])\n",
    "    text = row['Full Text']\n",
    "    conllu_output = process_text_local_udpipe(text)\n",
    "    id = row['ID']\n",
    "    with open(f'books/{id}.conllu', 'w') as f:\n",
    "        f.write(conllu_output)\n",
    "    time.sleep(5)"
   ]
  }
 ],
 "metadata": {
  "kernelspec": {
   "display_name": "corpipe-env",
   "language": "python",
   "name": "python3"
  },
  "language_info": {
   "codemirror_mode": {
    "name": "ipython",
    "version": 3
   },
   "file_extension": ".py",
   "mimetype": "text/x-python",
   "name": "python",
   "nbconvert_exporter": "python",
   "pygments_lexer": "ipython3",
   "version": "3.9.13"
  }
 },
 "nbformat": 4,
 "nbformat_minor": 5
}
